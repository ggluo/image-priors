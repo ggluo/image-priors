{
 "cells": [
  {
   "cell_type": "markdown",
   "metadata": {},
   "source": [
    "## Generative pretrained image priors for MRI reconstruction\n",
    "**Creator**: [Guanxiong Luo](https://ggluo.github.io)\n",
    "\n",
    "**Overview**:\n",
    "This notebook is to present how to use the pretrained image priors to improve MR reconstruction. What we will use here are the following:\n",
    "1. a library for generative image prior, called [spreco](https://pypi.org/project/spreco),\n",
    "2. a MR image reconstruction toolbox, called [BART](https://www.github.com/mrirecon/bart),\n",
    "3. several pretrained models hosted on this huggingface [page](https://huggingface.co/Guanxiong/MRI-Image-Priors).\n",
    "4. TensorFlow C API\n"
   ]
  },
  {
   "cell_type": "markdown",
   "metadata": {},
   "source": [
    "#### Let's get all of them at first!"
   ]
  },
  {
   "cell_type": "code",
   "execution_count": null,
   "metadata": {},
   "outputs": [],
   "source": [
    "%%bash\n",
    "git clone https://github.com/ggluo/spreco\n",
    "cd spreco\n",
    "git checkout devel\n",
    "pip install .\n",
    "pip install huggingface_hub\n",
    "\n",
    "cd ..\n",
    "wget -q https://storage.googleapis.com/tensorflow/libtensorflow/libtensorflow-gpu-linux-x86_64-2.12.0.tar.gz\n",
    "mkdir tensorflow && tar -C tensorflow -xvzf libtensorflow-gpu-linux-x86_64-2.12.0.tar.gz\n",
    "\n",
    "wget -q https://raw.githubusercontent.com/ggluo/image-priors/release/misc/kspace/mprage.hdr\n",
    "wget -q https://raw.githubusercontent.com/ggluo/image-priors/release/misc/kspace/mprage.cfl"
   ]
  },
  {
   "cell_type": "markdown",
   "metadata": {},
   "source": [
    "#### Prepare BART"
   ]
  },
  {
   "cell_type": "code",
   "execution_count": null,
   "metadata": {
    "vscode": {
     "languageId": "plaintext"
    }
   },
   "outputs": [],
   "source": [
    "%env LIBRARY_PATH=/content/tensorflow/include \n",
    "%env LD_LIBRARY_PATH=/content/tensorflow/lib\n",
    "%env TF_CPP_MIN_LOG_LEVEL=3"
   ]
  },
  {
   "cell_type": "code",
   "execution_count": null,
   "metadata": {},
   "outputs": [],
   "source": [
    "%%bash\n",
    "\n",
    "# Install BARTs dependencies\n",
    "apt-get install -y make gcc libfftw3-dev liblapacke-dev libpng-dev libopenblas-dev &> /dev/null\n",
    "\n",
    "# Download BART version\n",
    "[ -d /content/bart ] && rm -r /content/bart\n",
    "git clone https://github.com/mrirecon/bart/ bart\n",
    "[ -d \"bart\" ] && echo \"BART was downloaded successfully.\"\n",
    "\n",
    "cd bart\n",
    "\n",
    "COMPILE_SPECS=\" PARALLEL=1\n",
    "                TENSORFLOW=1\n",
    "                TENSORFLOW_BASE=../tensorflow/\"\n",
    "\n",
    "printf \"%s\\n\" $COMPILE_SPECS > Makefiles/Makefile.local\n",
    "\n",
    "make &> /dev/null"
   ]
  },
  {
   "cell_type": "code",
   "execution_count": null,
   "metadata": {},
   "outputs": [],
   "source": [
    "%env TOOLBOX_PATH=/content/bart"
   ]
  },
  {
   "cell_type": "markdown",
   "metadata": {},
   "source": [
    "#### Download models and export the model for BART"
   ]
  },
  {
   "cell_type": "code",
   "execution_count": null,
   "metadata": {},
   "outputs": [],
   "source": [
    "from huggingface_hub import hf_hub_download\n",
    "\n",
    "smld = [\"config.yaml\", \"smld.data-00000-of-00001\", \"smld.index\", \"smld.meta\"]\n",
    "cplx_large = [\"config.yaml\", \"pixelcnn.data-00000-of-00001\", \"pixelcnn.index\", \"pixelcnn.meta\"]\n",
    "\n",
    "for file in smld:\n",
    "    hf_hub_download(repo_id=\"Guanxiong/MRI-Image-Priors\", subfolder=\"Diffusion/SMLD\", filename=file, local_dir=\"./\")\n",
    "\n",
    "for file in cplx_large:\n",
    "    hf_hub_download(repo_id=\"Guanxiong/MRI-Image-Priors\", subfolder=\"PixelCNN/cplx_large\", filename=file, local_dir=\"./\")"
   ]
  },
  {
   "cell_type": "code",
   "execution_count": null,
   "metadata": {},
   "outputs": [],
   "source": [
    "from spreco.exporter import exporter\n",
    "from spreco.common import utils\n",
    "import tensorflow.compat.v1 as tf\n",
    "tf.disable_eager_execution()\n",
    "\n",
    "import numpy as np\n",
    "\n",
    "e = exporter(\"./PixelCNN/cplx_large\", \"pixelcnn\", default_out=False, path=\"./PixelCNN/exported\", name=\"cplx_large\")\n",
    "\n",
    "type = '2DCPLX'\n",
    "\n",
    "if type == '2DMAG':\n",
    "\n",
    "    x = tf.placeholder(tf.float32, shape=[1, 256, 256, 2], name=\"input_0\")\n",
    "\n",
    "    x_cplx = tf.complex(x[..., 0], x[..., 1])\n",
    "    x_mag  = tf.abs(x_cplx)[..., tf.newaxis]\n",
    "\n",
    "    logits = e.model.eval(x_mag)\n",
    "    loss   = e.model.loss_func(x_mag, logits) / np.log(2.0) / np.prod([1, 256, 256, 1])\n",
    "\n",
    "\n",
    "if type == '2DCPLX':\n",
    "\n",
    "    x = tf.placeholder(tf.float32, shape=[1, 256, 256, 2], name=\"input_0\")\n",
    "\n",
    "    logits = e.model.eval(x)\n",
    "    loss   = e.model.loss_func(x, logits) / np.log(2.0) / np.prod([1, 256, 256, 2])\n",
    "\n",
    "\n",
    "e.export([x], [loss], attach_gradients=True)"
   ]
  },
  {
   "cell_type": "markdown",
   "metadata": {},
   "source": [
    "#### Perform reconstruction\n",
    "\n",
    "The below cell includes the following steps\n",
    "1. create undersampling pattern\n",
    "2. estimate coil sensitivities\n",
    "3. compute reference and \n",
    "4. reconstruct image with l2-regularization and l1-regularzation in wavelet domain\n",
    "5. reconstruct image with log-likelihood regularization by a generative prior"
   ]
  },
  {
   "cell_type": "code",
   "execution_count": null,
   "metadata": {},
   "outputs": [],
   "source": [
    "%%bash\n",
    "\n",
    "nx=256\n",
    "ny=256\n",
    "cal=15\n",
    "fx=3\n",
    "fy=2\n",
    "\n",
    "kspace=mprage\n",
    "graph=./PixelCNN/exported/cplx_large\n",
    "\n",
    "# create undersampling pattern\n",
    "bart upat -Y$nx -Z $ny -y $fx -z$fy -c$cal mask\n",
    "bart transpose 0 1 mask mask\n",
    "bart transpose 1 2 mask mask\n",
    "bart fmac mask $kspace und_kspace\n",
    "\n",
    "# estimate coil sensitivities\n",
    "bart ecalib -r20 -m1 -c0.001 und_kspace coilsen\n",
    "\n",
    "# compute reference\n",
    "bart fft -i 3 $kspace coilimgs\n",
    "bart fmac -C -s$(bart bitmask 3) coilimgs coilsen grd\n",
    "\n",
    "# compute zero-filled\n",
    "bart fft -i 3 und_kspace coilimgs\n",
    "bart fmac -C -s$(bart bitmask 3) coilimgs coilsen zero_filled\n",
    "\n",
    "# l2-regularized reconstruction\n",
    "bart pics -l2 -r 0.01 und_kspace coilsen l2_pics\n",
    "\n",
    "# l1-regularzied in wavelet domains reconstruction \n",
    "bart pics -l1 -r 0.01 und_kspace coilsen l1_pics\n",
    "\n",
    "# log-likelihood regularized by a generative prior reconstruction\n",
    "bart pics -i100 -d4 -R TF:{$graph}:0.8 und_kspace coilsen prior_pics"
   ]
  },
  {
   "cell_type": "markdown",
   "metadata": {},
   "source": [
    "#### Display the reconstruction"
   ]
  },
  {
   "cell_type": "code",
   "execution_count": null,
   "metadata": {},
   "outputs": [],
   "source": [
    "#### Create a function to plot the grid of images\n",
    "\n",
    "%matplotlib inline\n",
    "import matplotlib.pyplot as plt\n",
    "from functools import partial\n",
    "\n",
    "def subplot(ax, img, title, cmap, interpolation, vmin, vmax):\n",
    "    ax.imshow(img, cmap=cmap, interpolation=interpolation, vmin=vmin, vmax=vmax)\n",
    "    ax.set_title(title)\n",
    "    ax.axis('off')\n",
    "\n",
    "plot_params = {'cmap': 'gray', 'interpolation': 'none', 'vmin': 0}\n",
    "axplot      = partial(subplot, **plot_params)\n",
    "\n",
    "recos = {\"zero_filled\": abs(utils.readcfl(\"zero_filled\")), \n",
    "         \"l2_pics\": abs(utils.readcfl(\"l2_pics\")),\n",
    "         \"l1_pics\": abs(utils.readcfl(\"l1_pics\")),\n",
    "         \"prior_pics\": abs(utils.readcfl(\"prior_pics\")),\n",
    "         \"grd\": abs(utils.readcfl(\"grd\"))\n",
    "        }\n",
    "\n",
    "grid_x=1\n",
    "grid_y=5\n",
    "\n",
    "fig, axss = plt.subplots(grid_x, grid_y, figsize=(15, 15), gridspec_kw={'width_ratios': [1  for _ in range(grid_y)]})\n",
    "for j, key in enumerate(recos.keys()):\n",
    "    axplot(axss[j], recos[key], title=key, vmax=0.7*np.max(recos[key]))"
   ]
  },
  {
   "cell_type": "markdown",
   "metadata": {},
   "source": [
    "#### Generate MR images with the downloaded model\n",
    "The cell below will take much longer than the above as the generation needs many iterations. Just let it go for around 20mins with a T4 accelerator on Colab, then come back. You will get 25 brain images that have a size of (256,256)."
   ]
  },
  {
   "cell_type": "code",
   "execution_count": null,
   "metadata": {},
   "outputs": [],
   "source": [
    "from spreco.sampler import sampler\n",
    "import numpy as np\n",
    "\n",
    "log_path   = './Diffusion/SMLD'\n",
    "model_path = log_path+'/smld'\n",
    "config     = utils.load_config(log_path+'/config.yaml')\n",
    "\n",
    "N=100\n",
    "sigma_type='quad'\n",
    "target_snr=0.2\n",
    "print(\"INFO -> sigma type: %s, sigma max: %.4f, simga min: %.4f, discrete steps: %d \"%( sigma_type, config['sigma_max'], config['sigma_min'], N))\n",
    "\n",
    "config['N'] = N\n",
    "a_sampler = sampler(config, target_snr, sigma_type)\n",
    "a_sampler.init_sampler(model_path, gpu_id='0')"
   ]
  },
  {
   "cell_type": "markdown",
   "metadata": {},
   "source": [
    "#### Predictor-and-corrector sampling "
   ]
  },
  {
   "cell_type": "code",
   "execution_count": null,
   "metadata": {},
   "outputs": [],
   "source": [
    "%matplotlib inline\n",
    "grid_x=5\n",
    "grid_y=5\n",
    "samples_n, samples  = a_sampler.pc_sampler(grid_x*grid_y, 3)\n",
    "\n",
    "images = samples_n[-1]\n",
    "images = np.abs(utils.float2cplx(images))\n",
    "\n",
    "fig, axss = plt.subplots(grid_x, grid_y, figsize=(10, 10), gridspec_kw={'width_ratios': [1  for _ in range(grid_x)]})\n",
    "for i in range(grid_x):\n",
    "    for j in range(grid_y):\n",
    "        if i==0:\n",
    "            strs='x_%d'%j\n",
    "        else:\n",
    "            strs=''\n",
    "        axplot(axss[i,j], images[i*grid_y+j], title=strs, vmax=np.max(images[i*grid_y+j]))\n",
    "plt.tight_layout(pad=.1)"
   ]
  },
  {
   "cell_type": "markdown",
   "metadata": {},
   "source": [
    "#### Ancestral sampling"
   ]
  },
  {
   "cell_type": "code",
   "execution_count": null,
   "metadata": {},
   "outputs": [],
   "source": [
    "grid_x=5\n",
    "grid_y=5\n",
    "a_sampler.steps=3\n",
    "samples_n, samples  = a_sampler.ancestral_sampler(grid_x*grid_y, 3)\n",
    "\n",
    "images = samples[-1]\n",
    "images = np.abs(utils.float2cplx(images))\n",
    "\n",
    "fig, axss = plt.subplots(grid_x, grid_y, figsize=(10, 10), gridspec_kw={'width_ratios': [1  for _ in range(grid_x)]})\n",
    "for i in range(grid_x):\n",
    "    for j in range(grid_y):\n",
    "        if i==0:\n",
    "            strs='x_%d'%j\n",
    "        else:\n",
    "            strs=''\n",
    "        axplot(axss[i,j], images[i*grid_y+j], title=strs, vmax=np.max(images[i*grid_y+j]))\n",
    "plt.tight_layout(pad=.1)"
   ]
  }
 ],
 "metadata": {
  "accelerator": "GPU",
  "gpuClass": "standard",
  "kernelspec": {
   "display_name": "tf",
   "language": "python",
   "name": "python3"
  },
  "language_info": {
   "codemirror_mode": {
    "name": "ipython",
    "version": 3
   },
   "file_extension": ".py",
   "mimetype": "text/x-python",
   "name": "python",
   "nbconvert_exporter": "python",
   "pygments_lexer": "ipython3",
   "version": "3.8.16"
  },
  "orig_nbformat": 4,
  "vscode": {
   "interpreter": {
    "hash": "fea02db0b649c7be8076274a6a175a7ee8482c1884362677c6d0e238ea798169"
   }
  }
 },
 "nbformat": 4,
 "nbformat_minor": 2
}

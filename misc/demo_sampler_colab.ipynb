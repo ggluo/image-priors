{
 "cells": [
  {
   "cell_type": "markdown",
   "metadata": {},
   "source": [
    "## Generative pretrained image priors for MRI reconstruction\n",
    "**Creator**: [Guanxiong Luo](https://ggluo.github.io)\n",
    "\n",
    "**Overview**:\n",
    "This notebook is to present how to use the pretrained image priors to improve MR reconstruction. What we will use here are the following:\n",
    "1. a library for generative image prior, called [spreco](https://pypi.org/project/spreco),\n",
    "2. a MR image reconstruction toolbox, called [BART](https://www.github.com/mrirecon/bart),\n",
    "3. several pretrained models hosted on this huggingface [page](https://huggingface.co/Guanxiong/MRI-Image-Priors).\n",
    "\n"
   ]
  },
  {
   "cell_type": "markdown",
   "metadata": {},
   "source": [
    "#### Let's get all of them at first!"
   ]
  },
  {
   "cell_type": "code",
   "execution_count": null,
   "metadata": {},
   "outputs": [],
   "source": [
    "%%bash\n",
    "git clone https://github.com/ggluo/spreco\n",
    "cd spreco\n",
    "git checkout devel\n",
    "pip install .\n",
    "pip install huggingface_hub\n"
   ]
  },
  {
   "cell_type": "markdown",
   "metadata": {},
   "source": [
    "#### Prepare BART"
   ]
  },
  {
   "cell_type": "code",
   "execution_count": null,
   "metadata": {},
   "outputs": [],
   "source": [
    "%%bash\n",
    "\n",
    "# Install BARTs dependencies\n",
    "apt-get install -y make gcc libfftw3-dev liblapacke-dev libpng-dev libopenblas-dev &> /dev/null\n",
    "\n",
    "# Download BART version\n",
    "[ -d /content/bart ] && rm -r /content/bart\n",
    "git clone https://github.com/mrirecon/bart/ bart\n",
    "[ -d \"bart\" ] && echo \"BART was downloaded successfully.\"\n",
    "\n",
    "cd bart\n",
    "make &> /dev/null"
   ]
  },
  {
   "cell_type": "code",
   "execution_count": null,
   "metadata": {},
   "outputs": [],
   "source": [
    "%env TOOLBOX_PATH=/content/bart"
   ]
  },
  {
   "cell_type": "code",
   "execution_count": null,
   "metadata": {},
   "outputs": [],
   "source": [
    "import os\n",
    "os.environ['PATH'] = os.environ['TOOLBOX_PATH'] + \":\" + os.environ['PATH']"
   ]
  },
  {
   "cell_type": "markdown",
   "metadata": {},
   "source": [
    "#### Download models"
   ]
  },
  {
   "cell_type": "code",
   "execution_count": null,
   "metadata": {},
   "outputs": [],
   "source": [
    "from huggingface_hub import hf_hub_download\n",
    "files=[\"config.yaml\", \"smld.data-00000-of-00001\", \"smld.index\", \"smld.meta\"]\n",
    "for file in files:\n",
    "    hf_hub_download(repo_id=\"Guanxiong/MRI-Image-Priors\", subfolder=\"Diffusion/SMLD\", filename=file, local_dir=\"./\")"
   ]
  },
  {
   "cell_type": "markdown",
   "metadata": {},
   "source": [
    "#### Create a function to plot the grid of images"
   ]
  },
  {
   "cell_type": "code",
   "execution_count": null,
   "metadata": {},
   "outputs": [],
   "source": [
    "%matplotlib inline\n",
    "import matplotlib.pyplot as plt\n",
    "from functools import partial\n",
    "\n",
    "def subplot(ax, img, title, cmap, interpolation, vmin, vmax):\n",
    "    ax.imshow(img, cmap=cmap, interpolation=interpolation, vmin=vmin, vmax=vmax)\n",
    "    ax.set_title(title)\n",
    "    ax.axis('off')\n",
    "\n",
    "\n",
    "plot_params = {'cmap': 'gray', 'interpolation': 'none', 'vmin': 0}\n",
    "axplot      = partial(subplot, **plot_params)"
   ]
  },
  {
   "cell_type": "markdown",
   "metadata": {},
   "source": [
    "#### Generate MR images with the downloaded model"
   ]
  },
  {
   "cell_type": "code",
   "execution_count": null,
   "metadata": {},
   "outputs": [],
   "source": [
    "from spreco.common import utils\n",
    "from spreco.sampler import sampler\n",
    "import numpy as np\n",
    "\n",
    "log_path   = './Diffusion/SMLD'\n",
    "model_path = log_path+'/smld'\n",
    "config     = utils.load_config(log_path+'/config.yaml')\n",
    "\n",
    "N=100\n",
    "sigma_type='quad'\n",
    "target_snr=0.2\n",
    "print(\"INFO -> sigma type: %s, sigma max: %.4f, simga min: %.4f, discrete steps: %d \"%( sigma_type, config['sigma_max'], config['sigma_min'], N))\n",
    "\n",
    "config['N'] = N\n",
    "a_sampler = sampler(config, target_snr, sigma_type)\n",
    "a_sampler.init_sampler(model_path, gpu_id='0')"
   ]
  },
  {
   "cell_type": "code",
   "execution_count": null,
   "metadata": {},
   "outputs": [],
   "source": [
    "grid_x=5\n",
    "grid_y=5\n",
    "samples_n, samples  = a_sampler.pc_sampler(grid_x*grid_y, 3)\n",
    "\n",
    "images = samples_n[-1]\n",
    "images = np.abs(utils.float2cplx(images))\n",
    "\n",
    "fig, axss = plt.subplots(grid_x, grid_y, figsize=(10, 10), gridspec_kw={'width_ratios': [1  for _ in range(grid_x)]})\n",
    "for i in range(grid_x):\n",
    "    for j in range(grid_y):\n",
    "        if i==0:\n",
    "            strs='x_%d'%j\n",
    "        else:\n",
    "            strs=''\n",
    "        axplot(axss[i,j], images[i*grid_y+j], title=strs, vmax=np.max(images[i*grid_y+j]))\n",
    "plt.tight_layout(pad=.1)"
   ]
  },
  {
   "cell_type": "code",
   "execution_count": null,
   "metadata": {},
   "outputs": [],
   "source": [
    "grid_x=5\n",
    "grid_y=5\n",
    "a_sampler.steps=3\n",
    "samples_n, samples  = a_sampler.ancestral_sampler(grid_x*grid_y, 3)\n",
    "\n",
    "images = samples[-1]\n",
    "images = np.abs(utils.float2cplx(images))\n",
    "\n",
    "fig, axss = plt.subplots(grid_x, grid_y, figsize=(10, 10), gridspec_kw={'width_ratios': [1  for _ in range(grid_x)]})\n",
    "for i in range(grid_x):\n",
    "    for j in range(grid_y):\n",
    "        if i==0:\n",
    "            strs='x_%d'%j\n",
    "        else:\n",
    "            strs=''\n",
    "        axplot(axss[i,j], images[i*grid_y+j], title=strs, vmax=np.max(images[i*grid_y+j]))\n",
    "plt.tight_layout(pad=.1)"
   ]
  }
 ],
 "metadata": {
  "accelerator": "GPU",
  "gpuClass": "standard",
  "kernelspec": {
   "display_name": "tf",
   "language": "python",
   "name": "python3"
  },
  "language_info": {
   "codemirror_mode": {
    "name": "ipython",
    "version": 3
   },
   "file_extension": ".py",
   "mimetype": "text/x-python",
   "name": "python",
   "nbconvert_exporter": "python",
   "pygments_lexer": "ipython3",
   "version": "3.8.16"
  },
  "orig_nbformat": 4,
  "vscode": {
   "interpreter": {
    "hash": "fea02db0b649c7be8076274a6a175a7ee8482c1884362677c6d0e238ea798169"
   }
  }
 },
 "nbformat": 4,
 "nbformat_minor": 2
}
